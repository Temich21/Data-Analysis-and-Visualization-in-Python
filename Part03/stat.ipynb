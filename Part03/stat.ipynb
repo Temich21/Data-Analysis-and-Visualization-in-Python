{
 "cells": [
  {
   "cell_type": "markdown",
   "metadata": {},
   "source": [
    "# Test hypotézy\n",
    "\n",
    "Cílem tohoto zadaní ověřit 2 teorie."
   ]
  },
  {
   "cell_type": "markdown",
   "metadata": {},
   "source": [
    "# Hypotéza 1:\n",
    "*\"Na silnicích první třídy se při nehodách umíralo se stejnou pravděpodobností jako na silnicích třetí třídy\"*"
   ]
  },
  {
   "cell_type": "markdown",
   "metadata": {},
   "source": [
    "\n",
    "Prvním krokem nahrajeme potřebné knihovny pro zpracování dat `numpy`, `pandas`, `matplotlib`, a takže knihovnu pro statistickou analyzu `scipy.stats`."
   ]
  },
  {
   "cell_type": "code",
   "execution_count": 1,
   "metadata": {},
   "outputs": [],
   "source": [
    "import numpy as np, pandas as pd\n",
    "import scipy.stats\n",
    "import matplotlib.pyplot as plt"
   ]
  },
  {
   "cell_type": "markdown",
   "metadata": {},
   "source": [
    "Načteme data, vyfiltrujeme je dle druhu pozemní komunikace (silnice 1. a 3. třídy) a přídáme sloupec \"Úmrtnost\" - kde bude jenom zaznamenovat, došlo li během nehody k smrti (True - došlo, False - nedošlo). "
   ]
  },
  {
   "cell_type": "code",
   "execution_count": 2,
   "metadata": {},
   "outputs": [
    {
     "data": {
      "text/html": [
       "<div>\n",
       "<style scoped>\n",
       "    .dataframe tbody tr th:only-of-type {\n",
       "        vertical-align: middle;\n",
       "    }\n",
       "\n",
       "    .dataframe tbody tr th {\n",
       "        vertical-align: top;\n",
       "    }\n",
       "\n",
       "    .dataframe thead th {\n",
       "        text-align: right;\n",
       "    }\n",
       "</style>\n",
       "<table border=\"1\" class=\"dataframe\">\n",
       "  <thead>\n",
       "    <tr style=\"text-align: right;\">\n",
       "      <th></th>\n",
       "      <th>p36</th>\n",
       "      <th>Úmrtnost</th>\n",
       "    </tr>\n",
       "  </thead>\n",
       "  <tbody>\n",
       "    <tr>\n",
       "      <th>7594</th>\n",
       "      <td>1</td>\n",
       "      <td>False</td>\n",
       "    </tr>\n",
       "    <tr>\n",
       "      <th>10530</th>\n",
       "      <td>1</td>\n",
       "      <td>False</td>\n",
       "    </tr>\n",
       "    <tr>\n",
       "      <th>10532</th>\n",
       "      <td>1</td>\n",
       "      <td>False</td>\n",
       "    </tr>\n",
       "    <tr>\n",
       "      <th>13362</th>\n",
       "      <td>1</td>\n",
       "      <td>False</td>\n",
       "    </tr>\n",
       "    <tr>\n",
       "      <th>21478</th>\n",
       "      <td>1</td>\n",
       "      <td>False</td>\n",
       "    </tr>\n",
       "    <tr>\n",
       "      <th>...</th>\n",
       "      <td>...</td>\n",
       "      <td>...</td>\n",
       "    </tr>\n",
       "    <tr>\n",
       "      <th>572914</th>\n",
       "      <td>3</td>\n",
       "      <td>False</td>\n",
       "    </tr>\n",
       "    <tr>\n",
       "      <th>572922</th>\n",
       "      <td>3</td>\n",
       "      <td>False</td>\n",
       "    </tr>\n",
       "    <tr>\n",
       "      <th>572931</th>\n",
       "      <td>3</td>\n",
       "      <td>False</td>\n",
       "    </tr>\n",
       "    <tr>\n",
       "      <th>572932</th>\n",
       "      <td>3</td>\n",
       "      <td>False</td>\n",
       "    </tr>\n",
       "    <tr>\n",
       "      <th>572933</th>\n",
       "      <td>3</td>\n",
       "      <td>False</td>\n",
       "    </tr>\n",
       "  </tbody>\n",
       "</table>\n",
       "<p>153329 rows × 2 columns</p>\n",
       "</div>"
      ],
      "text/plain": [
       "        p36  Úmrtnost\n",
       "7594      1     False\n",
       "10530     1     False\n",
       "10532     1     False\n",
       "13362     1     False\n",
       "21478     1     False\n",
       "...     ...       ...\n",
       "572914    3     False\n",
       "572922    3     False\n",
       "572931    3     False\n",
       "572932    3     False\n",
       "572933    3     False\n",
       "\n",
       "[153329 rows x 2 columns]"
      ]
     },
     "execution_count": 2,
     "metadata": {},
     "output_type": "execute_result"
    }
   ],
   "source": [
    "df = pd.read_pickle(\"accidents.pkl.gz\")\n",
    "df_h1 = df[(df['p36'] == 1) | (df['p36'] == 3)]\n",
    "df_h1 = df_h1[['p36', 'p13a']]\n",
    "df_h1['Úmrtnost'] = (df['p13a'] > 0)\n",
    "df_h1[['p36', 'Úmrtnost']]"
   ]
  },
  {
   "cell_type": "markdown",
   "metadata": {},
   "source": [
    "Před tím jak budeme ověřovat hypotézu potřebujeme vytvořit kontingenční tabulku pro všechny čtyři kombinace vstupů. "
   ]
  },
  {
   "cell_type": "code",
   "execution_count": 3,
   "metadata": {},
   "outputs": [
    {
     "data": {
      "text/html": [
       "<div>\n",
       "<style scoped>\n",
       "    .dataframe tbody tr th:only-of-type {\n",
       "        vertical-align: middle;\n",
       "    }\n",
       "\n",
       "    .dataframe tbody tr th {\n",
       "        vertical-align: top;\n",
       "    }\n",
       "\n",
       "    .dataframe thead th {\n",
       "        text-align: right;\n",
       "    }\n",
       "</style>\n",
       "<table border=\"1\" class=\"dataframe\">\n",
       "  <thead>\n",
       "    <tr style=\"text-align: right;\">\n",
       "      <th>Úmrtnost</th>\n",
       "      <th>False</th>\n",
       "      <th>True</th>\n",
       "    </tr>\n",
       "    <tr>\n",
       "      <th>p36</th>\n",
       "      <th></th>\n",
       "      <th></th>\n",
       "    </tr>\n",
       "  </thead>\n",
       "  <tbody>\n",
       "    <tr>\n",
       "      <th>1</th>\n",
       "      <td>78618</td>\n",
       "      <td>911</td>\n",
       "    </tr>\n",
       "    <tr>\n",
       "      <th>3</th>\n",
       "      <td>73352</td>\n",
       "      <td>448</td>\n",
       "    </tr>\n",
       "  </tbody>\n",
       "</table>\n",
       "</div>"
      ],
      "text/plain": [
       "Úmrtnost  False  True \n",
       "p36                   \n",
       "1         78618    911\n",
       "3         73352    448"
      ]
     },
     "execution_count": 3,
     "metadata": {},
     "output_type": "execute_result"
    }
   ],
   "source": [
    "ct = pd.crosstab(df_h1['p36'], df_h1['Úmrtnost'])\n",
    "ct"
   ]
  },
  {
   "cell_type": "markdown",
   "metadata": {},
   "source": [
    "Pro ověřovaní hypotézy využime z $\\chi^2$ test."
   ]
  },
  {
   "cell_type": "code",
   "execution_count": 4,
   "metadata": {},
   "outputs": [
    {
     "data": {
      "text/plain": [
       "(125.72070150000258,\n",
       " 3.5395243450138555e-29,\n",
       " 1,\n",
       " array([[78824.11109444,   704.88890556],\n",
       "        [73145.88890556,   654.11109444]]))"
      ]
     },
     "execution_count": 4,
     "metadata": {},
     "output_type": "execute_result"
    }
   ],
   "source": [
    "scipy.stats.chi2_contingency(ct)"
   ]
  },
  {
   "cell_type": "markdown",
   "metadata": {},
   "source": [
    "Hodnota $3.54\\cdot10^{-29}$ je mnohem menší než $0.05$. Proto __zamítneme nulovou hypotézu__ a zároveň expected hodnoty ukazují, že na silnici první třídy se při nehodách umíralo s větší pravděpodobností než na silnicích třetí třídy."
   ]
  },
  {
   "cell_type": "markdown",
   "metadata": {},
   "source": [
    "# Hypotéza 2:\n",
    "*\"Při nehodách vozidel značky Škoda je škoda na vozidle nižší než při nehodách vozidel Audi\"*"
   ]
  },
  {
   "cell_type": "markdown",
   "metadata": {},
   "source": [
    "Vyfiltrujeme data dle výrobní značky vozidla a hahrajeme je příslušnými auty. Zobrazime pouze druh auta a velikost škody."
   ]
  },
  {
   "cell_type": "code",
   "execution_count": 5,
   "metadata": {},
   "outputs": [
    {
     "data": {
      "text/html": [
       "<div>\n",
       "<style scoped>\n",
       "    .dataframe tbody tr th:only-of-type {\n",
       "        vertical-align: middle;\n",
       "    }\n",
       "\n",
       "    .dataframe tbody tr th {\n",
       "        vertical-align: top;\n",
       "    }\n",
       "\n",
       "    .dataframe thead th {\n",
       "        text-align: right;\n",
       "    }\n",
       "</style>\n",
       "<table border=\"1\" class=\"dataframe\">\n",
       "  <thead>\n",
       "    <tr style=\"text-align: right;\">\n",
       "      <th></th>\n",
       "      <th>p45a</th>\n",
       "      <th>p53</th>\n",
       "    </tr>\n",
       "  </thead>\n",
       "  <tbody>\n",
       "    <tr>\n",
       "      <th>0</th>\n",
       "      <td>Audi</td>\n",
       "      <td>4000</td>\n",
       "    </tr>\n",
       "    <tr>\n",
       "      <th>6</th>\n",
       "      <td>Škoda</td>\n",
       "      <td>200</td>\n",
       "    </tr>\n",
       "    <tr>\n",
       "      <th>9</th>\n",
       "      <td>Škoda</td>\n",
       "      <td>300</td>\n",
       "    </tr>\n",
       "    <tr>\n",
       "      <th>11</th>\n",
       "      <td>Škoda</td>\n",
       "      <td>50</td>\n",
       "    </tr>\n",
       "    <tr>\n",
       "      <th>16</th>\n",
       "      <td>Škoda</td>\n",
       "      <td>1200</td>\n",
       "    </tr>\n",
       "    <tr>\n",
       "      <th>...</th>\n",
       "      <td>...</td>\n",
       "      <td>...</td>\n",
       "    </tr>\n",
       "    <tr>\n",
       "      <th>572911</th>\n",
       "      <td>Škoda</td>\n",
       "      <td>10</td>\n",
       "    </tr>\n",
       "    <tr>\n",
       "      <th>572916</th>\n",
       "      <td>Škoda</td>\n",
       "      <td>130</td>\n",
       "    </tr>\n",
       "    <tr>\n",
       "      <th>572921</th>\n",
       "      <td>Škoda</td>\n",
       "      <td>100</td>\n",
       "    </tr>\n",
       "    <tr>\n",
       "      <th>572923</th>\n",
       "      <td>Škoda</td>\n",
       "      <td>0</td>\n",
       "    </tr>\n",
       "    <tr>\n",
       "      <th>572931</th>\n",
       "      <td>Audi</td>\n",
       "      <td>50</td>\n",
       "    </tr>\n",
       "  </tbody>\n",
       "</table>\n",
       "<p>129824 rows × 2 columns</p>\n",
       "</div>"
      ],
      "text/plain": [
       "         p45a   p53\n",
       "0        Audi  4000\n",
       "6       Škoda   200\n",
       "9       Škoda   300\n",
       "11      Škoda    50\n",
       "16      Škoda  1200\n",
       "...       ...   ...\n",
       "572911  Škoda    10\n",
       "572916  Škoda   130\n",
       "572921  Škoda   100\n",
       "572923  Škoda     0\n",
       "572931   Audi    50\n",
       "\n",
       "[129824 rows x 2 columns]"
      ]
     },
     "execution_count": 5,
     "metadata": {},
     "output_type": "execute_result"
    }
   ],
   "source": [
    "df_h2 = df.copy()\n",
    "df_h2 = df_h2[(df['p45a'] == 2) | (df['p45a'] == 39)]\n",
    "df_h2['p45a'] = df_h2['p45a'].apply(lambda x: 'Audi' if x == 2 else 'Škoda')\n",
    "df_h2[['p45a', 'p53']]"
   ]
  },
  {
   "cell_type": "markdown",
   "metadata": {},
   "source": [
    "Vizuálně zkontrolujeme jestli data jsou normální. Nemůžeme využit Shapiro-Wilkův test protože máme víc než 5000 prvků."
   ]
  },
  {
   "cell_type": "code",
   "execution_count": 6,
   "metadata": {},
   "outputs": [
    {
     "data": {
      "image/png": "[encoded data removed]",
      "text/plain": [
       "<Figure size 1000x800 with 2 Axes>"
      ]
     },
     "metadata": {},
     "output_type": "display_data"
    }
   ],
   "source": [
    "plt.figure(figsize=(10 , 8))\n",
    "for figid, (p45a, d) in enumerate(df_h2.groupby(\"p45a\")):\n",
    "    plt.subplot(211 + figid)\n",
    "    plt.hist(d[\"p53\"], label=p45a, bins=30)\n",
    "    plt.title(p45a)\n",
    "    plt.xlim(0, df['p53'].max())\n",
    "plt.tight_layout()"
   ]
  },
  {
   "cell_type": "markdown",
   "metadata": {},
   "source": [
    "Dle grafů můžeme vidět, že se nejedná o normální data. Tím pádem máme využit Mann-Whitney U-Test, Wilcoxon signed-rank test nemůžeme využit protože nemáme žádnou asociaci mezi dvěma proměnnými."
   ]
  },
  {
   "cell_type": "code",
   "execution_count": 7,
   "metadata": {},
   "outputs": [
    {
     "name": "stdout",
     "output_type": "stream",
     "text": [
      "300.0 200.0\n"
     ]
    },
    {
     "data": {
      "text/plain": [
       "MannwhitneyuResult(statistic=789001736.0, pvalue=4.921643600739696e-188)"
      ]
     },
     "execution_count": 7,
     "metadata": {},
     "output_type": "execute_result"
    }
   ],
   "source": [
    "df_h2 = df_h2.set_index(['p45a'])\n",
    "a = df_h2.loc['Audi', 'p53']\n",
    "b = df_h2.loc['Škoda', 'p53']\n",
    "print(a.median(), b.median())\n",
    "scipy.stats.mannwhitneyu(a, b)"
   ]
  },
  {
   "cell_type": "markdown",
   "metadata": {},
   "source": [
    "Hodnota p-value je o mnohem menši než 0.05 (zamítáme nulovou hypotézu), což znamená že škoda na vozidlech Audi je o mnohem vyšší než na vozidlech Škoda. Hypotéza má pravdu."
   ]
  }
 ],
 "metadata": {
  "kernelspec": {
   "display_name": "Python 3.11.0 64-bit",
   "language": "python",
   "name": "python3"
  },
  "language_info": {
   "codemirror_mode": {
    "name": "ipython",
    "version": 3
   },
   "file_extension": ".py",
   "mimetype": "text/x-python",
   "name": "python",
   "nbconvert_exporter": "python",
   "pygments_lexer": "ipython3",
   "version": "3.11.0"
  },
  "orig_nbformat": 4,
  "vscode": {
   "interpreter": {
    "hash": "c261aea317cc0286b3b3261fbba9abdec21eaa57589985bb7a274bf54d6cc0a7"
   }
  }
 },
 "nbformat": 4,
 "nbformat_minor": 2
}
